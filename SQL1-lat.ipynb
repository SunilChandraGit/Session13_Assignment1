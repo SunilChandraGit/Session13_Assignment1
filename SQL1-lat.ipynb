{
 "cells": [
  {
   "cell_type": "code",
   "execution_count": null,
   "metadata": {},
   "outputs": [],
   "source": [
    "import numpy as np\n",
    "import pandas as pd\n",
    "from pandas import DataFrame, Series\n",
    "import sqlite3 \n",
    "from pandasql import sqldf\n",
    "\n",
    "pysqldf = lambda q: sqldf(q, globals())\n",
    "\n",
    "from pandasql import sqldf, load_meat, load_births"
   ]
  },
  {
   "cell_type": "code",
   "execution_count": 98,
   "metadata": {},
   "outputs": [],
   "source": [
    "sqladb = pd.read_csv(\"https://archive.ics.uci.edu/ml/machine-learning-databases/adult/adult.data\", header=None)\n",
    "sqladb.columns=['age', 'workclass', 'fnlwgt', 'education', 'education_num', 'marital_status', 'occupation', 'relationship', 'race', 'sex', 'capital_gain', 'capital_loss', 'hours_per_week', 'native_country', '-']\n",
    "\n",
    "connection=sqlite3.connect(r\"sqladb3.db\")\n",
    "cursor = connection.cursor()\n",
    "\n",
    "query_create_table = '''CREATE TABLE SAMPLE(\n",
    "                        ID INTEGER PRIMARY KEY AUTOINCREMENT,\n",
    "                        AGE INT,\n",
    "                        WORKCLASS TEXT,\n",
    "                        FNLWGT TEXT,\n",
    "                        EDUCATION TEXT,\n",
    "                        EDUCATION_NUM TEXT,\n",
    "                        MARITAL_STATUS TEXT,\n",
    "                        OCCUPATION TEXT,\n",
    "                        RELATIONSHIP TEXT,\n",
    "                        RACE TEXT,\n",
    "                        SEX TEXT,\n",
    "                        CAPITAL_GAIN int,\n",
    "                        CAPITAL_LOST int,\n",
    "                        HOURS_PER_WEEK TEXT,\n",
    "                        NATIVE_COUNTRY TEXT,\n",
    "                        NET_CAPITAL_GAIN INT); '''\n",
    "\n",
    "connection.execute(query_create_table)\n",
    "\n",
    "insert_query = \"INSERT INTO SAMPLE( AGE, WORKCLASS, FNLWGT,EDUCATION, EDUCATION_NUM, MARITAL_STATUS, OCCUPATION, RELATIONSHIP, RACE, SEX, CAPITAL_GAIN, CAPITAL_LOST, HOURS_PER_WEEK, NATIVE_COUNTRY) VALUES (%d, '%s', '%s', '%s', '%s', '%s', '%s', '%s', '%s', '%s', '%s', '%s', '%s', '%s')\"\n",
    "\n",
    "for index, row in sqladb.iterrows():\n",
    "    connection.execute(insert_query % (row['age'], row['workclass'], row['fnlwgt'], row['education'], row['education_num'], row['marital_status'], row['occupation'], row['relationship'], row['race'], row['sex'], row['capital_gain'], row['capital_loss'], row['hours_per_week'], row['native_country']))\n",
    "\n",
    "connection.commit()"
   ]
  },
  {
   "cell_type": "code",
   "execution_count": 99,
   "metadata": {},
   "outputs": [
    {
     "name": "stdout",
     "output_type": "stream",
     "text": [
      "   ID  AGE          WORKCLASS  FNLWGT   EDUCATION EDUCATION_NUM  \\\n",
      "0   1   39          State-gov   77516   Bachelors            13   \n",
      "1   2   50   Self-emp-not-inc   83311   Bachelors            13   \n",
      "2   3   38            Private  215646     HS-grad             9   \n",
      "3   4   53            Private  234721        11th             7   \n",
      "4   5   28            Private  338409   Bachelors            13   \n",
      "5   6   37            Private  284582     Masters            14   \n",
      "6   7   49            Private  160187         9th             5   \n",
      "7   8   52   Self-emp-not-inc  209642     HS-grad             9   \n",
      "8   9   31            Private   45781     Masters            14   \n",
      "9  10   42            Private  159449   Bachelors            13   \n",
      "\n",
      "           MARITAL_STATUS          OCCUPATION    RELATIONSHIP    RACE  \\\n",
      "0           Never-married        Adm-clerical   Not-in-family   White   \n",
      "1      Married-civ-spouse     Exec-managerial         Husband   White   \n",
      "2                Divorced   Handlers-cleaners   Not-in-family   White   \n",
      "3      Married-civ-spouse   Handlers-cleaners         Husband   Black   \n",
      "4      Married-civ-spouse      Prof-specialty            Wife   Black   \n",
      "5      Married-civ-spouse     Exec-managerial            Wife   White   \n",
      "6   Married-spouse-absent       Other-service   Not-in-family   Black   \n",
      "7      Married-civ-spouse     Exec-managerial         Husband   White   \n",
      "8           Never-married      Prof-specialty   Not-in-family   White   \n",
      "9      Married-civ-spouse     Exec-managerial         Husband   White   \n",
      "\n",
      "       SEX  CAPITAL_GAIN  CAPITAL_LOST HOURS_PER_WEEK  NATIVE_COUNTRY  \\\n",
      "0     Male          2174             0             40   United-States   \n",
      "1     Male             0             0             13   United-States   \n",
      "2     Male             0             0             40   United-States   \n",
      "3     Male             0             0             40   United-States   \n",
      "4   Female             0             0             40            Cuba   \n",
      "5   Female             0             0             40   United-States   \n",
      "6   Female             0             0             16         Jamaica   \n",
      "7     Male             0             0             45   United-States   \n",
      "8   Female         14084             0             50   United-States   \n",
      "9     Male          5178             0             40   United-States   \n",
      "\n",
      "  NET_CAPITAL_GAIN  \n",
      "0             None  \n",
      "1             None  \n",
      "2             None  \n",
      "3             None  \n",
      "4             None  \n",
      "5             None  \n",
      "6             None  \n",
      "7             None  \n",
      "8             None  \n",
      "9             None  \n"
     ]
    }
   ],
   "source": [
    "top_10_rows = pd.read_sql_query(\"select * from SAMPLE limit 10\", connection)\n",
    "print(top_10_rows)"
   ]
  },
  {
   "cell_type": "code",
   "execution_count": 100,
   "metadata": {},
   "outputs": [
    {
     "name": "stdout",
     "output_type": "stream",
     "text": [
      "     SEX  AVG(hours_per_week)\n",
      "0   Male            42.428086\n"
     ]
    }
   ],
   "source": [
    "male_avg_working=pd.read_sql_query(\"select sex, AVG(hours_per_week) from SAMPLE where sex = ' Male' group by sex\", connection)\n",
    "print(male_avg_working)"
   ]
  },
  {
   "cell_type": "code",
   "execution_count": 101,
   "metadata": {},
   "outputs": [
    {
     "name": "stdout",
     "output_type": "stream",
     "text": [
      "        EDUCATION  COUNT(*)\n",
      "0            10th       933\n",
      "1            11th      1175\n",
      "2            12th       433\n",
      "3         1st-4th       168\n",
      "4         5th-6th       333\n",
      "5         7th-8th       646\n",
      "6             9th       514\n",
      "7      Assoc-acdm      1067\n",
      "8       Assoc-voc      1382\n",
      "9       Bachelors      5355\n",
      "10      Doctorate       413\n",
      "11        HS-grad     10501\n",
      "12        Masters      1723\n",
      "13      Preschool        51\n",
      "14    Prof-school       576\n",
      "15   Some-college      7291\n"
     ]
    }
   ],
   "source": [
    "education_count=pd.read_sql_query(\"select education, COUNT(*) from SAMPLE group by education\", connection)\n",
    "print(education_count)"
   ]
  },
  {
   "cell_type": "code",
   "execution_count": 102,
   "metadata": {},
   "outputs": [
    {
     "name": "stdout",
     "output_type": "stream",
     "text": [
      "            OCCUPATION  COUNT(*)\n",
      "0                    ?      1843\n",
      "1         Adm-clerical      3770\n",
      "2         Armed-Forces         9\n",
      "3         Craft-repair      4099\n",
      "4      Exec-managerial      4066\n",
      "5      Farming-fishing       994\n",
      "6    Handlers-cleaners      1370\n",
      "7    Machine-op-inspct      2002\n",
      "8        Other-service      3295\n",
      "9      Priv-house-serv       149\n",
      "10      Prof-specialty      4140\n",
      "11     Protective-serv       649\n",
      "12               Sales      3650\n",
      "13        Tech-support       928\n",
      "14    Transport-moving      1597\n"
     ]
    }
   ],
   "source": [
    "occupation_count=pd.read_sql_query(\"select occupation, COUNT(*) from SAMPLE group by occupation\", connection)\n",
    "print(occupation_count)"
   ]
  },
  {
   "cell_type": "code",
   "execution_count": 103,
   "metadata": {},
   "outputs": [
    {
     "name": "stdout",
     "output_type": "stream",
     "text": [
      "      RELATIONSHIP  COUNT(*)\n",
      "0          Husband     13193\n",
      "1    Not-in-family      8305\n",
      "2   Other-relative       981\n",
      "3        Own-child      5068\n",
      "4        Unmarried      3446\n",
      "5             Wife      1568\n"
     ]
    }
   ],
   "source": [
    "relationship_count=pd.read_sql_query(\"select relationship, COUNT(*) from SAMPLE group by relationship\", connection)\n",
    "print(relationship_count)"
   ]
  },
  {
   "cell_type": "code",
   "execution_count": 104,
   "metadata": {},
   "outputs": [
    {
     "name": "stdout",
     "output_type": "stream",
     "text": [
      "   count(*)\n",
      "0       660\n"
     ]
    }
   ],
   "source": [
    "private_bachelor_masters=pd.read_sql_query(\"select count(*) from SAMPLE where education=' Masters' and workclass = ' Private' and marital_status != ' Never-married'\", connection)\n",
    "print(private_bachelor_masters)"
   ]
  },
  {
   "cell_type": "code",
   "execution_count": 105,
   "metadata": {},
   "outputs": [
    {
     "name": "stdout",
     "output_type": "stream",
     "text": [
      "           WORKCLASS  MAX(age)  MIN(age)   AVG(age)\n",
      "0                  ?        90        17  40.960240\n",
      "1        Federal-gov        90        17  42.590625\n",
      "2          Local-gov        90        17  41.751075\n",
      "3       Never-worked        30        17  20.571429\n",
      "4            Private        90        17  36.797585\n",
      "5       Self-emp-inc        84        17  46.017025\n",
      "6   Self-emp-not-inc        90        17  44.969697\n",
      "7          State-gov        81        17  39.436055\n",
      "8        Without-pay        72        19  47.785714\n"
     ]
    }
   ],
   "source": [
    "age_min_max=pd.read_sql_query(\"select workclass, MAX(age), MIN(age), AVG(age) from sample group by workclass\", connection)\n",
    "print(age_min_max)"
   ]
  },
  {
   "cell_type": "code",
   "execution_count": 106,
   "metadata": {},
   "outputs": [
    {
     "name": "stdout",
     "output_type": "stream",
     "text": [
      "                 NATIVE_COUNTRY  MAX(age)  MIN(age)\n",
      "0                             ?        90        17\n",
      "1                      Cambodia        65        18\n",
      "2                        Canada        80        17\n",
      "3                         China        75        22\n",
      "4                      Columbia        75        18\n",
      "5                          Cuba        82        21\n",
      "6            Dominican-Republic        78        18\n",
      "7                       Ecuador        90        21\n",
      "8                   El-Salvador        79        17\n",
      "9                       England        90        17\n",
      "10                       France        64        20\n",
      "11                      Germany        74        18\n",
      "12                       Greece        65        22\n",
      "13                    Guatemala        66        19\n",
      "14                        Haiti        63        17\n",
      "15           Holand-Netherlands        32        32\n",
      "16                     Honduras        58        18\n",
      "17                         Hong        60        19\n",
      "18                      Hungary        81        24\n",
      "19                        India        61        17\n",
      "20                         Iran        63        22\n",
      "21                      Ireland        68        23\n",
      "22                        Italy        77        19\n",
      "23                      Jamaica        66        18\n",
      "24                        Japan        61        19\n",
      "25                         Laos        56        19\n",
      "26                       Mexico        81        17\n",
      "27                    Nicaragua        67        19\n",
      "28   Outlying-US(Guam-USVI-etc)        63        21\n",
      "29                         Peru        69        17\n",
      "30                  Philippines        90        17\n",
      "31                       Poland        85        17\n",
      "32                     Portugal        78        19\n",
      "33                  Puerto-Rico        90        17\n",
      "34                     Scotland        62        18\n",
      "35                        South        90        19\n",
      "36                       Taiwan        61        20\n",
      "37                     Thailand        55        19\n",
      "38              Trinadad&Tobago        61        17\n",
      "39                United-States        90        17\n",
      "40                      Vietnam        73        19\n",
      "41                   Yugoslavia        66        20\n"
     ]
    }
   ],
   "source": [
    "countrywise_min_max=pd.read_sql_query(\"select native_country, MAX(age), MIN(age) from sample group by native_country\", connection)\n",
    "print(countrywise_min_max)"
   ]
  },
  {
   "cell_type": "code",
   "execution_count": 107,
   "metadata": {},
   "outputs": [
    {
     "name": "stdout",
     "output_type": "stream",
     "text": [
      "                 NATIVE_COUNTRY  0-25  25-50  50-75  75-100\n",
      "0                             ?    68    416    108       4\n",
      "1                      Cambodia     1     16      3       0\n",
      "2                        Canada    13     70     39       2\n",
      "3                         China     5     50     21       1\n",
      "4                      Columbia     6     40     14       1\n",
      "5                          Cuba     5     54     36       2\n",
      "6            Dominican-Republic    14     43     14       1\n",
      "7                       Ecuador     4     22      2       1\n",
      "8                   El-Salvador    28     66     14       1\n",
      "9                       England    11     58     21       1\n",
      "10                       France     2     21      6       0\n",
      "11                      Germany    16     93     30       0\n",
      "12                       Greece     4     11     14       0\n",
      "13                    Guatemala    16     42      6       0\n",
      "14                        Haiti     9     24     11       0\n",
      "15           Holand-Netherlands     0      1      0       0\n",
      "16                     Honduras     2     10      1       0\n",
      "17                         Hong     1     18      1       0\n",
      "18                      Hungary     1      5      6       1\n",
      "19                        India     9     74     18       0\n",
      "20                         Iran     4     32      7       0\n",
      "21                      Ireland     2     19      4       0\n",
      "22                        Italy     5     38     31       1\n",
      "23                      Jamaica    14     55     13       0\n",
      "24                        Japan     3     53      7       0\n",
      "25                         Laos     4     12      3       0\n",
      "26                       Mexico   149    433     64       1\n",
      "27                    Nicaragua     7     24      3       0\n",
      "28   Outlying-US(Guam-USVI-etc)     2      9      3       0\n",
      "29                         Peru     8     21      2       0\n",
      "30                  Philippines    23    142     40       2\n",
      "31                       Poland     4     39     15       3\n",
      "32                     Portugal     5     24      7       1\n",
      "33                  Puerto-Rico    14     77     25       1\n",
      "34                     Scotland     1      8      3       0\n",
      "35                        South    17     48     17       2\n",
      "36                       Taiwan     7     40      4       0\n",
      "37                     Thailand     4     13      1       0\n",
      "38              Trinadad&Tobago     1     15      4       0\n",
      "39                United-States  5056  18248   6191     260\n",
      "40                      Vietnam    23     36      9       0\n",
      "41                   Yugoslavia     2     11      3       0\n"
     ]
    }
   ],
   "source": [
    "age_distribution=pd.read_sql_query(\"select native_country, SUM(CASE WHEN age<25 THEN 1 ELSE 0 END) as [0-25],\"+\n",
    "                                   \" SUM(case when age between 25 and 50 then 1 else 0 end) as [25-50],\"+\n",
    "                                   \" SUM(case when age between 50 and 75 then 1 else 0 end) as [50-75],\"+\n",
    "                                   \" SUM(case when age between 75 and 100 then 1 else 0 end) as [75-100] from sample group by native_country\", connection)\n",
    "print(age_distribution)"
   ]
  },
  {
   "cell_type": "code",
   "execution_count": null,
   "metadata": {},
   "outputs": [],
   "source": [
    "calc_net_cap=pd.read_sql_query(\"update sample set Net_Capital_Gain=CAPITAL_GAIN+CAPITAL_LOST \", connection)\n",
    "print(select_table)"
   ]
  },
  {
   "cell_type": "code",
   "execution_count": null,
   "metadata": {},
   "outputs": [],
   "source": []
  }
 ],
 "metadata": {
  "kernelspec": {
   "display_name": "Python 3",
   "language": "python",
   "name": "python3"
  },
  "language_info": {
   "codemirror_mode": {
    "name": "ipython",
    "version": 3
   },
   "file_extension": ".py",
   "mimetype": "text/x-python",
   "name": "python",
   "nbconvert_exporter": "python",
   "pygments_lexer": "ipython3",
   "version": "3.6.4"
  }
 },
 "nbformat": 4,
 "nbformat_minor": 2
}
